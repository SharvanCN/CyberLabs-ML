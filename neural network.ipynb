{
 "cells": [
  {
   "cell_type": "code",
   "execution_count": 1,
   "id": "553708d5",
   "metadata": {},
   "outputs": [],
   "source": [
    "import numpy as np\n",
    "import pandas as pd\n",
    "import matplotlib.pyplot as plt"
   ]
  },
  {
   "cell_type": "code",
   "execution_count": 2,
   "id": "603759a3",
   "metadata": {},
   "outputs": [
    {
     "name": "stdout",
     "output_type": "stream",
     "text": [
      "(30000, 784)\n"
     ]
    }
   ],
   "source": [
    "df = pd.read_csv('classification_train.csv')\n",
    "train = df.to_numpy()\n",
    "x_train = np.delete(train, [0, 1], axis = 1)\n",
    "y_train = train[:, 1]\n",
    "df_test = pd.read_csv('classification_test.csv')\n",
    "test = df_test.to_numpy()\n",
    "x_test = np.delete(test, 0, axis =1)\n",
    "y_test = np.zeros(x_train.shape[0])\n",
    "print(x_train.shape)"
   ]
  },
  {
   "cell_type": "code",
   "execution_count": 3,
   "id": "011a7331",
   "metadata": {},
   "outputs": [
    {
     "name": "stdout",
     "output_type": "stream",
     "text": [
      "20000\n"
     ]
    }
   ],
   "source": [
    "x_traintrain = np.delete(x_train, range(10000, 20000), axis  = 0)\n",
    "nn = x_traintrain.shape[0]\n",
    "x_traintest = x_train[10000:20000 , :]\n",
    "y_traintrain = np.delete(y_train, range(10000,20000), axis = 0)\n",
    "y_traintest = y_train[10000:20000]\n",
    "y_meanmean = np.sum(y_traintest)/10000\n",
    "print(nn)"
   ]
  },
  {
   "cell_type": "code",
   "execution_count": 12,
   "id": "507fe238",
   "metadata": {},
   "outputs": [],
   "source": [
    "class NeuralNetwork:\n",
    "    def __init__(self, input_size, hidden_size, output_size):\n",
    "        self.W1 = np.random.randn(input_size, hidden_size) * 0.01\n",
    "        self.b1 = np.zeros((1, hidden_size))\n",
    "        self.W2 = np.random.randn(hidden_size, output_size) * 0.01\n",
    "        self.b2 = np.zeros((1, output_size))\n",
    "\n",
    "    def forward(self, X):\n",
    "        self.z1 = np.dot(X, self.W1) + self.b1\n",
    "        self.a1 = np.maximum(0, self.z1)\n",
    "        self.z2 = np.dot(self.a1, self.W2) + self.b2\n",
    "        self.y_hat = self.softmax(self.z2)\n",
    "        return self.y_hat\n",
    "\n",
    "    def softmax(self, X):\n",
    "        exps = np.exp(X - np.max(X, axis=1, keepdims=True))\n",
    "        return exps / np.sum(exps, axis=1, keepdims=True)\n",
    "\n",
    "    def backward(self, X, y, y_hat, alpha):\n",
    "        m = X.shape[0]\n",
    "        y = y.reshape(64,1)\n",
    "        dZ2 = y_hat - y\n",
    "        dW2 = (1 / m) * np.dot(self.a1.T, dZ2)\n",
    "        db2 = (1 / m) * np.sum(dZ2, axis=0, keepdims=True)\n",
    "        dA1 = np.dot(dZ2, self.W2.T)\n",
    "        dZ1 = np.multiply(dA1, np.int64(self.a1 > 0))\n",
    "        dW1 = (1 / m) * np.dot(X.T, dZ1)\n",
    "        db1 = (1 / m) * np.sum(dZ1, axis=0, keepdims=True)\n",
    "\n",
    "        self.W1 -= alpha * dW1\n",
    "        self.b1 -= alpha * db1\n",
    "        self.W2 -= alpha * dW2\n",
    "        self.b2 -= alpha * db2"
   ]
  },
  {
   "cell_type": "code",
   "execution_count": 13,
   "id": "b2c908c5",
   "metadata": {},
   "outputs": [],
   "source": [
    "input_size = 784\n",
    "hidden_size = 256\n",
    "output_size = 10"
   ]
  },
  {
   "cell_type": "code",
   "execution_count": 14,
   "id": "878f10fc",
   "metadata": {},
   "outputs": [],
   "source": [
    "nn = NeuralNetwork(input_size, hidden_size, output_size)"
   ]
  },
  {
   "cell_type": "code",
   "execution_count": null,
   "id": "a9d12551",
   "metadata": {},
   "outputs": [],
   "source": [
    "alpha = 0.001\n",
    "num_iters = 1000\n",
    "for i in range(num_iters):\n",
    "    batch_indices = np.random.choice(x_traintrain.shape[0], size=64, replace=False)\n",
    "    x_batch = x_traintrain[batch_indices]\n",
    "    y_batch = y_traintrain[batch_indices]\n",
    "    y_hat = nn.forward(x_batch)\n",
    "    nn.backward(x_batch, y_batch, y_hat, alpha)\n",
    "    predictions = np.argmax(nn.forward(x_traintrain), axis=1)\n",
    "    accuracy = np.mean((predictions == y_traintrain))"
   ]
  }
 ],
 "metadata": {
  "kernelspec": {
   "display_name": "Python 3 (ipykernel)",
   "language": "python",
   "name": "python3"
  },
  "language_info": {
   "codemirror_mode": {
    "name": "ipython",
    "version": 3
   },
   "file_extension": ".py",
   "mimetype": "text/x-python",
   "name": "python",
   "nbconvert_exporter": "python",
   "pygments_lexer": "ipython3",
   "version": "3.10.6"
  }
 },
 "nbformat": 4,
 "nbformat_minor": 5
}
