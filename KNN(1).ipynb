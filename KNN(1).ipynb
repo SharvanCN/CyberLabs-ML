{
 "cells": [
  {
   "cell_type": "code",
   "execution_count": 4,
   "id": "5e4e42ae",
   "metadata": {},
   "outputs": [],
   "source": [
    "import numpy as np\n",
    "import pandas as pd\n",
    "import matplotlib.pyplot as plt"
   ]
  },
  {
   "cell_type": "code",
   "execution_count": 5,
   "id": "4020fac1",
   "metadata": {},
   "outputs": [],
   "source": [
    "def minkowski_distance(x, i, p):\n",
    "    distance2 = np.sum(np.power(x-x[i], 2), axis = 1)\n",
    "    distance = np.power(distance2, 1/p)\n",
    "    return distance"
   ]
  },
  {
   "cell_type": "code",
   "execution_count": 6,
   "id": "683eba4e",
   "metadata": {},
   "outputs": [],
   "source": [
    "z = []\n",
    "def regression(x, k):\n",
    "    for i in range(x_train.shape[0]):\n",
    "        y = x[:k, i]\n",
    "        z = np.mean(y)\n",
    "    return z"
   ]
  },
  {
   "cell_type": "code",
   "execution_count": 7,
   "id": "5bdfb1c6",
   "metadata": {},
   "outputs": [],
   "source": [
    "df = pd.read_csv('linear_train.csv', dtype = np.float64)\n",
    "x_train = df.to_numpy()\n",
    "y_train = x_train[:, 21]\n",
    "x_train = np.delete(x_train, [0,21], axis = 1)"
   ]
  },
  {
   "cell_type": "code",
   "execution_count": null,
   "id": "6609d24a",
   "metadata": {},
   "outputs": [],
   "source": [
    "distances_1 = []\n",
    "for i in range(x_train.shape[0]):\n",
    "    x_b = x_train - x_train[i]\n",
    "    distance_1 = np.linalg.norm(x_b, axis =1)\n",
    "    distances_1.append(distance_1)\n",
    "print(distances_1)"
   ]
  },
  {
   "cell_type": "code",
   "execution_count": 6,
   "id": "dd9289f4",
   "metadata": {},
   "outputs": [
    {
     "ename": "KeyboardInterrupt",
     "evalue": "",
     "output_type": "error",
     "traceback": [
      "\u001b[0;31m---------------------------------------------------------------------------\u001b[0m",
      "\u001b[0;31mKeyboardInterrupt\u001b[0m                         Traceback (most recent call last)",
      "Cell \u001b[0;32mIn [6], line 3\u001b[0m\n\u001b[1;32m      1\u001b[0m distance \u001b[38;5;241m=\u001b[39m []\n\u001b[1;32m      2\u001b[0m \u001b[38;5;28;01mfor\u001b[39;00m i \u001b[38;5;129;01min\u001b[39;00m \u001b[38;5;28mrange\u001b[39m(x_train\u001b[38;5;241m.\u001b[39mshape[\u001b[38;5;241m0\u001b[39m]):\n\u001b[0;32m----> 3\u001b[0m     distances \u001b[38;5;241m=\u001b[39m minkowski_distance(x_train, i, \u001b[38;5;241m2\u001b[39m)\n\u001b[1;32m      4\u001b[0m     distance\u001b[38;5;241m.\u001b[39mappend(distances)\n",
      "Cell \u001b[0;32mIn [3], line 2\u001b[0m, in \u001b[0;36mminkowski_distance\u001b[0;34m(x, i, p)\u001b[0m\n\u001b[1;32m      1\u001b[0m \u001b[38;5;28;01mdef\u001b[39;00m \u001b[38;5;21mminkowski_distance\u001b[39m(x, i, p):\n\u001b[0;32m----> 2\u001b[0m     distance2 \u001b[38;5;241m=\u001b[39m np\u001b[38;5;241m.\u001b[39msum(\u001b[43mnp\u001b[49m\u001b[38;5;241;43m.\u001b[39;49m\u001b[43mpower\u001b[49m\u001b[43m(\u001b[49m\u001b[43mx\u001b[49m\u001b[38;5;241;43m-\u001b[39;49m\u001b[43mx\u001b[49m\u001b[43m[\u001b[49m\u001b[43mi\u001b[49m\u001b[43m]\u001b[49m\u001b[43m,\u001b[49m\u001b[43m \u001b[49m\u001b[38;5;241;43m2\u001b[39;49m\u001b[43m)\u001b[49m, axis \u001b[38;5;241m=\u001b[39m \u001b[38;5;241m1\u001b[39m)\n\u001b[1;32m      3\u001b[0m     distance \u001b[38;5;241m=\u001b[39m np\u001b[38;5;241m.\u001b[39mpower(distance2, \u001b[38;5;241m1\u001b[39m\u001b[38;5;241m/\u001b[39mp)\n\u001b[1;32m      4\u001b[0m     \u001b[38;5;28;01mreturn\u001b[39;00m distance\n",
      "\u001b[0;31mKeyboardInterrupt\u001b[0m: "
     ]
    }
   ],
   "source": [
    "# for distances other than euclidean distance\n",
    "distance_2 = []\n",
    "for i in range(x_train.shape[0]):\n",
    "    distances = minkowski_distance(x_train, i, 2)\n",
    "    distance_2.append(distances)"
   ]
  },
  {
   "cell_type": "code",
   "execution_count": 12,
   "id": "cb89559f",
   "metadata": {},
   "outputs": [
    {
     "ename": "NameError",
     "evalue": "name 'distances_1' is not defined",
     "output_type": "error",
     "traceback": [
      "\u001b[0;31m---------------------------------------------------------------------------\u001b[0m",
      "\u001b[0;31mNameError\u001b[0m                                 Traceback (most recent call last)",
      "Cell \u001b[0;32mIn [12], line 2\u001b[0m\n\u001b[1;32m      1\u001b[0m \u001b[38;5;28;01mfor\u001b[39;00m i \u001b[38;5;129;01min\u001b[39;00m \u001b[38;5;28mrange\u001b[39m(x_train\u001b[38;5;241m.\u001b[39mshape[\u001b[38;5;241m0\u001b[39m]):\n\u001b[0;32m----> 2\u001b[0m     distances \u001b[38;5;241m=\u001b[39m distances_1[distances_1[:,i]\u001b[38;5;241m.\u001b[39margsort()]\n\u001b[1;32m      3\u001b[0m \u001b[38;5;28mprint\u001b[39m(distances)\n",
      "\u001b[0;31mNameError\u001b[0m: name 'distances_1' is not defined"
     ]
    }
   ],
   "source": [
    "for i in range(x_train.shape[0]):\n",
    "    distances = distances_1[distances_1[:,i].argsort()]\n",
    "print(distances)"
   ]
  },
  {
   "cell_type": "code",
   "execution_count": 11,
   "id": "2bf00b41",
   "metadata": {},
   "outputs": [
    {
     "ename": "NameError",
     "evalue": "name 'distances' is not defined",
     "output_type": "error",
     "traceback": [
      "\u001b[0;31m---------------------------------------------------------------------------\u001b[0m",
      "\u001b[0;31mNameError\u001b[0m                                 Traceback (most recent call last)",
      "Cell \u001b[0;32mIn [11], line 1\u001b[0m\n\u001b[0;32m----> 1\u001b[0m r \u001b[38;5;241m=\u001b[39m regression(distances, \u001b[38;5;241m4\u001b[39m)\n\u001b[1;32m      2\u001b[0m r \u001b[38;5;241m=\u001b[39m r\u001b[38;5;241m.\u001b[39mto_numpy()\n\u001b[1;32m      3\u001b[0m \u001b[38;5;28mprint\u001b[39m(r)\n",
      "\u001b[0;31mNameError\u001b[0m: name 'distances' is not defined"
     ]
    }
   ],
   "source": [
    "r = regression(distances, 4)\n",
    "r = r.to_numpy()\n",
    "print(r)\n",
    "Mean_absolute_error = np.mean(np.abs(r - y_hat))"
   ]
  }
 ],
 "metadata": {
  "kernelspec": {
   "display_name": "Python 3 (ipykernel)",
   "language": "python",
   "name": "python3"
  },
  "language_info": {
   "codemirror_mode": {
    "name": "ipython",
    "version": 3
   },
   "file_extension": ".py",
   "mimetype": "text/x-python",
   "name": "python",
   "nbconvert_exporter": "python",
   "pygments_lexer": "ipython3",
   "version": "3.10.6"
  }
 },
 "nbformat": 4,
 "nbformat_minor": 5
}
